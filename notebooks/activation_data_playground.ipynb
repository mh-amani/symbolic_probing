{
 "cells": [
  {
   "cell_type": "code",
   "execution_count": 1,
   "metadata": {},
   "outputs": [],
   "source": [
    "%load_ext autoreload\n",
    "%autoreload 2"
   ]
  },
  {
   "cell_type": "code",
   "execution_count": 2,
   "metadata": {},
   "outputs": [],
   "source": [
<<<<<<< HEAD
    "from transformer_lens import HookedTransformer\n",
    "from datasets import load_dataset\n",
    "device = \"cuda:0\"\n",
    "model = HookedTransformer.from_pretrained(\"gelu-1l\").to(device)\n",
    "data = load_dataset(\"NeelNanda/c4-code-20k\", split=\"train\")"
   ]
  },
  {
   "cell_type": "code",
   "execution_count": 11,
   "metadata": {},
   "outputs": [
    {
     "data": {
      "text/plain": [
       "'# Copyright (c) 2019 J. Alvarez-Jarreta and C.J. Brasher\\n#\\n# This file is part of the LipidFinder software tool and governed by the\\n# \\'MIT License\\'. Please see the LICENSE file that should have been\\n# included as part of this software.\\n\"\"\"Graphical User Interface (GUI) to manage the parameters\\' collection.\\n\"\"\"\\n\\nfrom collections import OrderedDict\\nimport os\\n\\nfrom IPython.display import display\\nfrom ipywidgets import widgets, Layout\\nimport pandas\\n\\nfrom LipidFinder.Configuration import LFParameters\\nfrom LipidFinder._utils import normalise_path\\n\\n\\nclass _TaggedToggleButton(widgets.ToggleButton):\\n    \"\"\"Add \"tag\" attribute to widgets.ToggleButton class.\"\"\"\\n\\n    def __init__(self, tag, **kwargs):\\n        widgets.ToggleButton.__init__(self, **kwargs)\\n        self.tag = tag\\n\\n\\nclass _TaggedCheckbox(widgets.Checkbox):\\n    \"\"\"Add \"tag\" attribute to widgets.Checkbox class.\"\"\"\\n\\n    def __init__(self, tag, **kwargs):\\n        widgets.Checkbox.__init__(self, **kwargs)\\n        self.tag = tag\\n\\n\\nclass _TaggedButton(widgets.Button):\\n    \"\"\"Add \"tag\" attribute to widgets.Button class.\"\"\"\\n\\n    def __init__(self, tag, **kwargs):\\n        widgets.Button.__init__(self, **kwargs)\\n        self.tag = tag\\n\\n\\nclass LFParametersGUI(LFParameters):\\n    \"\"\"A LFParametersGUI object stores a set of LipidFinder parameters\\n    to be used in the specified module.\\n\\n    This subclass of LFParameters implements a graphical interface using\\n    jupyter notebook\\'s widgets, executed during the object creation. It\\n    allows the user to check, change and save each active parameter\\'s\\n    value interactively.\\n\\n    Attributes:\\n        _parameters  (Private[collections.OrderedDict])\\n            Dictionary where the parameters and their associated\\n            information are stored.\\n        _floatPointPrecision  (Private[int])\\n            Number of digits after the radix point in floats.\\n        _floatStep  (Private[float])\\n            Minimum difference between two consecutive float numbers.\\n        _style  (Private[dict])\\n            Dictionary with the default style settings for widgets.\\n        _inputWidth  (Private[str])\\n            String representation of the default width of input widgets.\\n        _widgets  (Private[collections.OrderedDict])\\n            Dictionary where the widgets for each parameter are stored.\\n\\n    Examples:\\n        LFParametersGUI objects can be created as follows:\\n            >>> from Configuration.LFParametersGUI import\\n            ...     LFParametersGUI\\n            >>> LFParametersGUI()\\n            >>> LFParametersGUI(src=\\'/home/user/my_parameters.json\\')\\n\\n        The former will load the default PeakFilter parameters and will\\n        load and display the interface afterwards. The latter will load\\n        the default PeakFilter parameters, override them with the values\\n        found in the JSON file provided, and finally it will load and\\n        display the interface.\\n\\n        Alternatively, a specific module can be introduced as argument:\\n            >>> from Configuration.LFParametersGUI import\\n            ...     LFParametersGUI\\n            >>> LFParametersGUI(module=\\'mssearch\\')\\n    \"\"\"\\n\\n    def __init__(self, precision=4, **kwargs):\\n        # type: (int, ...) -> LFParametersGUI\\n        \"\"\"Constructor of the class LFParametersGUI.\\n\\n        First, the module\\'s parameters template file is loaded. Next, if\\n        a source JSON parameters file path is provided, the default\\n        values are overwritten by the corresponding new (valid) values.\\n        Finally, the graphical user interface is displayed.\\n\\n        Keyword Arguments:\\n            precision -- number of decimal digits to use with floats\\n                         (e.g. a precision of 2 forces a difference of\\n                          0.01 between any two consecutive float numbers)\\n                         [default: 4]\\n        \"\"\"\\n        # Minimum difference between two consecutive float numbers\\n        self._floatPointPrecision = precision\\n        self._floatStep = 10 ** -(precision)\\n        # Load the parameters dictionary using parent class\\' constructor\\n        LFParameters.__init__(self, **kwargs)\\n        # Default style\\n        self._style = {\\'description_width\\': \\'0px\\'}\\n        # Default width of input widgets\\n        self._inputWidth = \\'26%\\'\\n        # Generate an ordered dict to store each parameter\\'s set of\\n        # widgets in the same order as in the parameters\\' dict\\n        self._widgets = OrderedDict()\\n        # Create every widget of the GUI\\n        for key, data in self._parameters.items():\\n            disabled = not self._is_active(key)\\n            # Load the information of each parameter\\n            self._widgets[key] = [self._create_label(key, disabled),\\n                                  self._create_help_icon(key, disabled)]\\n            # Create the input widget or container of input widgets for\\n            # each parameter type\\n            if (data[\\'type\\'] == \\'bool\\'):\\n                self._widgets[key].append(\\n                        self._create_bool_widget(key, disabled))\\n            elif (data[\\'type\\'] == \\'int\\'):\\n                self._widgets[key].append(\\n                        self._create_int_widget(key, disabled))\\n            elif (data[\\'type\\'] == \\'float\\'):\\n                self._widgets[key].append(\\n                        self._create_float_widget(key, disabled))\\n            elif (data[\\'type\\'] == \\'selection\\'):\\n                self._widgets[key].append(\\n                        self._create_selection_widget(key, disabled))\\n            elif (data[\\'type\\'] == \\'path\\'):\\n                self._widgets[key].append(\\n                        self._create_path_widget(key, disabled))\\n            elif (data[\\'type\\'] == \\'int range\\'):\\n                self._widgets[key].append(\\n                        self._create_int_range_widget(key, disabled))\\n            elif (data[\\'type\\'] == \\'float range\\'):\\n                self._widgets[key].append(\\n                        self._create_float_range_widget(key, disabled))\\n            elif (data[\\'type\\'] == \\'multiselection\\'):\\n                self._widgets[key].append(\\n                        self._create_multiselection_widget(key, disabled))\\n            elif (data[\\'type\\'] == \\'pairs\\'):\\n                self._widgets[key].append(\\n                        self._create_pairs_widget(key, disabled))\\n            else: # data[\\'type\\'] == \\'str\\'\\n                self._widgets[key].append(\\n                        self._create_str_widget(key, disabled))\\n        # Display the GUI\\n        hboxLayout = Layout(align_items=\\'center\\')\\n        for key, widgetList in self._widgets.items():\\n            display(widgets.HBox(widgetList, layout=hboxLayout))\\n        # Finally, create the save interface to allow the user to save\\n        # the current parameters values in a JSON file\\n        display(widgets.HBox([], layout=Layout(height=\\'15px\\')))\\n        display(widgets.HBox([], layout=Layout(height=\\'0px\\',\\n                                               border=\\'2px solid lightgray\\')))\\n        display(widgets.HBox([], layout=Layout(height=\\'2px\\')))\\n        self._widgets[\\'save\\'] = self._create_save_widget()\\n        hboxLayout = Layout(justify_content=\\'space-between\\',\\n                            align_items=\\'center\\')\\n        display(widgets.HBox(self._widgets[\\'save\\'], layout=hboxLayout))\\n\\n    def _create_label(self, key, disabled):\\n        # type: (str, bool) -> widgets.HTML\\n        \"\"\"Return an HTML widget with the parameter\\'s description.\\n\\n        If \\'disabled\\' is False, the text will be in black, otherwise it\\n        will be in gray.\\n\\n        Keyword Arguments:\\n            key      -- name of the parameter\\n            disabled -- is the parameter/widget disabled?\\n        \"\"\"\\n        text = self._parameters[key][\\'description\\']\\n        label = (\"<p style=\\\\\"font-size:110%; line-height:19px; color:{0};\\\\\">{1}\"\\n                 \"</p>\").format(\\'Gray\\' if disabled else \\'Black\\', text)\\n        return widgets.HTML(value=label, style=self._style,\\n                            layout=Layout(width=\\'50%\\'))\\n\\n    def _create_help_icon(self, key, disabled):\\n        # type: (str, bool) -> widgets.HTML\\n        \"\"\"Return an HTML widget with the parameter\\'s help as tooltip of\\n        a help icon.\\n\\n        Keyword Arguments:\\n            key      -- name of the parameter\\n            disabled -- is the parameter/widget disabled?\\n        \"\"\"\\n        if (\\'help\\' in self._parameters[key]):\\n            code = (\"<link rel=\\\\\"stylesheet\\\\\" href=\\\\\"https://fonts.googleapis.c\"\\n                    \"om/icon?family=Material+Icons\\\\\"><i class=\\\\\"material-icons\"\\n                    \"\\\\\" style=\\\\\"color:{0}; font-size:18px; display:inline\"\\n                    \"-flex; vertical-align:middle;\\\\\" title=\\\\\"{1}\\\\\">help</i>\"\\n                    \"\").format(\"SteelBlue\", self._parameters[key][\\'help\\'])\\n        else:\\n            code = \\'\\'\\n        layout = Layout(width=\\'2%\\',\\n                        visibility=\\'hidden\\' if disabled else \\'visible\\')\\n        return widgets.HTML(value=code, style=self._style, layout=layout)\\n\\n    def _create_str_widget(self, key, disabled):\\n        # type: (str, bool) -> widgets.Text\\n        \"\"\"Return a Text widget with the parameter\\'s value.\\n\\n        Keyword Arguments:\\n            key      -- name of the parameter\\n            disabled -- is the parameter/widget disabled?\\n        \"\"\"\\n        if (\\'example\\' in self._parameters[key]):\\n            example = self._parameters[key][\\'example\\']\\n        else:\\n            example = \\'\\'\\n        inputWidget = widgets.Text(\\n                value=self[key], description=key, placeholder=example,\\n                style=self._style, layout=Layout(width=self._inputWidth),\\n                continuous_update=False, disabled=disabled)\\n        # Add handler for when the \"value\" trait changes\\n        inputWidget.observe(self._default_handler, names=\\'value\\')\\n        return inputWidget\\n\\n    def _create_bool_widget(self, key, disabled):\\n        # type: (str, bool) -> widgets.HBox\\n        \"\"\"Return an HBox containing a ToggleButton widget to represent\\n        the parameter\\'s value.\\n\\n        Keyword Arguments:\\n            key      -- name of the parameter\\n            disabled -- is the parameter/widget disabled?\\n        \"\"\"\\n        inputWidget = _TaggedToggleButton(\\n                value=self[key], description=\\'Yes\\' if self[key] else \\'No\\',\\n                tag=key, style=self._style, layout=Layout(width=\\'50%\\'),\\n                button_style=\\'primary\\', disabled=disabled)\\n        # Add handler for when the \"value\" trait changes\\n        inputWidget.observe(self._bool_handler, names=\\'value\\')\\n        layout = Layout(width=self._inputWidth, justify_content=\\'center\\')\\n        return widgets.HBox([inputWidget], layout=layout)\\n\\n    def _create_int_widget(self, key, disabled):\\n        # type: (str, bool) -> widgets.BoundedIntText\\n        \"\"\"Return a BoundedIntText widget with the parameter\\'s value.\\n\\n        Keyword Arguments:\\n            key      -- name of the parameter\\n            disabled -- is the parameter/widget disabled?\\n        \"\"\"\\n        inputWidget = widgets.BoundedIntText(\\n                value=self[key], description=key, min=self._min(key),\\n                max=self._max(key), style=self._style,\\n                layout=Layout(width=self._inputWidth), continuous_update=False,\\n                disabled=disabled)\\n        # Save the widget\\'s value in case its constructor automatically\\n        # replaces an empty one given as argument\\n        self._parameters[key][\\'value\\'] = inputWidget.value\\n        # Add handler for when the \"value\" trait changes\\n        inputWidget.observe(self._default_handler, names=\\'value\\')\\n        return inputWidget\\n\\n    def _create_float_widget(self, key, disabled):\\n        # type: (str, bool) -> widgets.BoundedFloatText\\n        \"\"\"Return a BoundedFloatText widget with the parameter\\'s value.\\n\\n        Keyword Arguments:\\n            key      -- name of the parameter\\n            disabled -- is the parameter/widget disabled?\\n        \"\"\"\\n        inputWidget = widgets.BoundedFloatText(\\n                value=self[key], description=key, min=self._min(key),\\n                max=self._max(key), step=self._floatStep, style=self._style,\\n                layout=Layout(width=self._inputWidth), continuous_update=False,\\n                disabled=disabled)\\n        # Save the widget\\'s value in case its constructor automatically\\n        # replaces an empty one given as argument\\n        self._parameters[key][\\'value\\'] = inputWidget.value\\n        # Add handler for when the \"value\" trait changes\\n        inputWidget.observe(self._default_handler, names=\\'value\\')\\n        return inputWidget\\n\\n    def _create_selection_widget(self, key, disabled):\\n        # type: (str, bool) -> widgets.Dropdown\\n        \"\"\"Return a Dropdown widget with the parameter\\'s options and its\\n        current value selected.\\n\\n        Keyword Arguments:\\n            key      -- name of the parameter\\n            disabled -- is the parameter/widget disabled?\\n        \"\"\"\\n        inputWidget = widgets.Dropdown(\\n                options=self._parameters[key][\\'options\\'], value=self[key],\\n                description=key, style=self._style,\\n                layout=Layout(width=self._inputWidth), disabled=disabled)\\n        # Add handler for when the \"value\" trait changes\\n        inputWidget.observe(self._default_handler, names=\\'value\\')\\n        return inputWidget\\n\\n    def _create_path_widget(self, key, disabled):\\n        # type: (str, bool) -> widgets.HBox\\n        \"\"\"Return an HBox containing a Text widget with the parameter\\'s\\n        value.\\n\\n        If the Text widget is enabled and the file does not exist, a\\n        warning icon will be displayed next to it to alert the user.\\n\\n        Keyword Arguments:\\n            key      -- name of the parameter\\n            disabled -- is the parameter/widget disabled?\\n        \"\"\"\\n        inputWidget = widgets.Text(\\n                value=self[key], description=key, style=self._style,\\n                layout=Layout(width=\\'92%\\'), continuous_update=False,\\n                disabled=disabled)\\n        # Add handler for when the \"value\" trait changes\\n        inputWidget.observe(self._path_handler, names=\\'value\\')\\n        # Create an HTML widget with a warning icon that will be\\n        # displayed if the Text widget is enabled and the file does not\\n        # exist\\n        code = (\"<link rel=\\\\\"stylesheet\\\\\" href=\\\\\"https://fonts.googleapis.com/i\"\\n                \"con?family=Material+Icons\\\\\"><i class=\\\\\"material-icons\\\\\" style=\"\\n                \"\\\\\"font-size:18px; color:Red; display:inline-flex; vertical-ali\"\\n                \"gn:middle;\\\\\" title=\\\\\"File not found!\\\\\">warning</i>\")\\n        warn = not disabled and not os.path.isfile(self[key])\\n        layout = Layout(width=\\'5%\\',\\n                        visibility=\\'visible\\' if warn else \\'hidden\\')\\n        warnWidget = widgets.HTML(value=code, style=self._style, layout=layout)\\n        layout = Layout(width=\\'46%\\', justify_content=\\'space-between\\')\\n        return widgets.HBox([inputWidget, warnWidget], layout=layout)\\n\\n    def _create_int_range_widget(self, key, disabled):\\n        # type: (str, bool) -> widgets.HBox\\n        \"\"\"Return an HBox containing two BoundedIntText widgets with the\\n        parameter\\'s range values.\\n\\n        The widgets are created to fulfill the \"int range\" type\\n        condition: lower_bound < upper_bound\\n\\n        Keyword Arguments:\\n            key      -- name of the parameter\\n            disabled -- is the parameter/widget disabled?\\n        \"\"\"\\n        lowerBound = widgets.BoundedIntText(\\n                value=self[key][0], description=key, min=self._min(key),\\n                max=self[key][1] - 1, style=self._style,\\n                layout=Layout(width=\\'50%\\'), continuous_update=False,\\n                disabled=disabled)\\n        # Save the widget\\'s value in case its constructor automatically\\n        # replaces an empty one given as argument\\n        self._parameters[key][\\'value\\'][0] = lowerBound.value\\n        # Add handler for when the \"value\" trait changes\\n        lowerBound.observe(self._range_handler, names=\\'value\\')\\n        upperBound = widgets.BoundedIntText(\\n                value=self[key][1], description=key, min=self[key][0] + 1,\\n                max=self._max(key), style=self._style,\\n                layout=Layout(width=\\'50%\\'), continuous_update=False,\\n                disabled=disabled)\\n        # Save the widget\\'s value in case its constructor automatically\\n        # replaces an empty one given as argument\\n        self._parameters[key][\\'value\\'][1] = upperBound.value\\n        # Add handler for when the \"value\" trait changes\\n        upperBound.observe(self._range_handler, names=\\'value\\')\\n        return widgets.HBox([lowerBound, upperBound],\\n                            layout=Layout(width=self._inputWidth))\\n\\n    def _create_float_range_widget(self, key, disabled):\\n        # type: (str, bool) -> widgets.HBox\\n        \"\"\"Return an HBox containing two BoundedFloatText widgets with\\n        the parameter\\'s range values.\\n\\n        The widgets are created to fulfill the \"float range\" type\\n        condition: lower_bound < upper_bound\\n\\n        Keyword Arguments:\\n            key      -- name of the parameter\\n            disabled -- is the parameter/widget disabled?\\n        \"\"\"\\n        lowerBound = widgets.BoundedFloatText(\\n                value=self[key][0], description=key, min=self._min(key),\\n                max=self[key][1] - self._floatStep, step=self._floatStep,\\n                style=self._style, layout=Layout(width=\\'50%\\'),\\n                continuous_update=False, disabled=disabled)\\n        # Save the widget\\'s value in case its constructor automatically\\n        # replaces an empty one given as argument\\n        self._parameters[key][\\'value\\'][0] = lowerBound.value\\n        # Add handler for when the \"value\" trait changes\\n        lowerBound.observe(self._range_handler, names=\\'value\\')\\n        upperBound = widgets.BoundedFloatText(\\n                value=self[key][1], description=key,\\n                min=self[key][0] + self._floatStep, max=self._max(key),\\n                step=self._floatStep, style=self._style,\\n                layout=Layout(width=\\'50%\\'), continuous_update=False,\\n                disabled=disabled)\\n        # Save the widget\\'s value in case its constructor automatically\\n        # replaces an empty one given as argument\\n        self._parameters[key][\\'value\\'][1] = upperBound.value\\n        # Add handler for when the \"value\" trait changes\\n        upperBound.observe(self._range_handler, names=\\'value\\')\\n        return widgets.HBox([lowerBound, upperBound],\\n                            layout=Layout(width=self._inputWidth))\\n\\n    def _create_multiselection_widget(self, key, disabled):\\n        # type: (str, bool) -> widgets.Box\\n        \"\"\"Return a Box containing as many Checkbox widgets as\\n        parameter\\'s options, with those in its \"value\" field checked.\\n\\n        Keyword Arguments:\\n            key      -- name of the parameter\\n            disabled -- is the parameter/widget disabled?\\n        \"\"\"\\n        itemWidgets = []\\n        for item in self._parameters[key][\\'options\\']:\\n            layoutWidth = \\'23%\\' if (len(item) <= 10) else \\'48%\\'\\n            inputWidget = _TaggedCheckbox(\\n                    value=item in self[key], description=item, tag=key,\\n                    style=self._style, layout=Layout(width=layoutWidth),\\n                    disabled=disabled)\\n            # Add handler for when the \"value\" trait changes\\n            inputWidget.observe(self._multiselection_handler, names=\\'value\\')\\n            itemWidgets.append(inputWidget)\\n        layout = Layout(width=\\'46%\\', display=\\'flex\\', flex_flow=\\'row wrap\\',\\n                        justify_content=\\'space-between\\')\\n        return widgets.Box(itemWidgets, layout=layout)\\n\\n    def _create_pairs_widget(self, key, disabled):\\n        # type: (str, bool) -> widgets.HBox\\n        \"\"\"Return an HBox containing the interface to add and remove\\n        pairs of available elements.\\n\\n        The term \"available elements\" refers to those elements in the\\n        first column of the CSV file\\'s path stored under the parameter\\'s\\n        \"file\" key. Users will not be able to add existing pairs or\\n        pairs formed by the same element twice.\\n\\n        Keyword Arguments:\\n            key      -- name of the parameter\\n            disabled -- is the parameter/widget disabled?\\n        \"\"\"\\n        # Load the list of available elements from the first column of\\n        # the CSV file saved under the parameter\\'s \"file\" key\\n        srcFilePath = self[self._parameters[key][\\'file\\']]\\n        options = pandas.read_csv(srcFilePath).iloc[:, 0].tolist()\\n        # Create two Select widgets with the list of available elements\\n        leftSelect = widgets.Select(\\n                options=options, rows=4, style=self._style,\\n                layout=Layout(width=\\'20%\\'), disabled=disabled)\\n        rightSelect = widgets.Select(\\n                options=options, rows=4, style=self._style,\\n                layout=Layout(width=\\'20%\\'), disabled=disabled)\\n        # Create the add and remove buttons with the handler to add and\\n        # remove pairs, respectively\\n        addButton = _TaggedButton(\\n                description=\\'Pair >>\\', tooltip=\\'Add new pair\\', tag=key,\\n                layout=Layout(width=\\'95%\\'), disabled=disabled)\\n        # Add handlerfor when the button is clicked\\n        addButton.on_click(self._pairs_add_handler)\\n        delButton = _TaggedButton(\\n                description=\\'<< Remove\\', tooltip=\\'Remove selected pair\\',\\n                tag=key, layout=Layout(width=\\'95%\\'), disabled=disabled)\\n        # Add handler for when the button is clicked\\n        delButton.on_click(self._pairs_del_handler)\\n        layout = Layout(width=\\'21%\\', justify_content=\\'space-around\\')\\n        # Hold the buttons in a VBox to get the desired layout\\n        buttonsBox = widgets.VBox([addButton, delButton], layout=layout)\\n        # Create a Select widget with the parameter\\'s list of pairs\\n        pairs = [\\' , \\'.join(x) for x in self[key]]\\n        pairsSelect = widgets.Select(\\n                options=pairs, rows=4, style=self._style,\\n                layout=Layout(width=\\'28%\\'), disabled=disabled)\\n        layout = Layout(width=\\'46%\\', justify_content=\\'space-around\\')\\n        return widgets.HBox([leftSelect, rightSelect, buttonsBox, pairsSelect],\\n                            layout=layout)\\n\\n    def _create_save_widget(self):\\n        # type: () -> list\\n        \"\"\"Return a list containing the interface to save the current\\n        parameters values as a JSON file in an introduced path.\\n        \"\"\"\\n        text = (\"<p style=\\\\\"font-size:110%; line-height:19px; color:Black;\\\\\">\"\\n                 \"Where do you want to save the new set of parameters?</p>\")\\n        label = widgets.HTML(value=text, style=self._style,\\n                             layout=Layout(width=\\'38%\\'))\\n        # Create the path input widget (Text) with a default path and\\n        # file name\\n        defaultPath = normalise_path(\"parameters.json\")\\n        inputWidget = widgets.Text(\\n                value=defaultPath, placeholder=defaultPath, style=self._style,\\n                layout=Layout(width=\\'40%\\'), continuous_update=False)\\n        # Add handler for when the \"value\" trait changes\\n        inputWidget.observe(self._save_path_handler, names=\\'value\\')\\n        # Create an HTML widget with a warning icon that will be\\n        # displayed if the directory path does not exist\\n        code = (\"<link rel=\\\\\"stylesheet\\\\\" href=\\\\\"https://fonts.googleapis.com/i\"\\n                \"con?family=Material+Icons\\\\\"><i class=\\\\\"material-icons\\\\\" style=\"\\n                \"\\\\\"font-size:18px; color:Red; display:inline-flex; vertical-ali\"\\n                \"gn:middle;\\\\\" title=\\\\\"Path not found!\\\\\">warning</i>\")\\n        dirPath = os.path.split(inputWidget.value)[0]\\n        visibility = \\'visible\\' if not os.path.isdir(dirPath) else \\'hidden\\'\\n        layout = Layout(width=\\'2%\\', visibility=visibility)\\n        warnWidget = widgets.HTML(value=code, style=self._style, layout=layout)\\n        # Create a save button that will be active only if every active\\n        # parameter is valid and the destination path exists\\n        saveButton = widgets.Button(\\n                description=\\'Save\\', button_style=\\'danger\\',\\n                tooltip=\\'Save parameters in a JSON file\\',\\n                layout=Layout(width=\\'12%\\', height=\\'35px\\'),\\n                disabled=not self._valid_parameters())\\n        # Add handler for when the button is clicked\\n        saveButton.on_click(self._save_button_handler)\\n        return [label, inputWidget, warnWidget, saveButton]\\n\\n    def _update(self):\\n        # type: () -> None\\n        \"\"\"Return an HBox containing the interface to add and remove\\n        pairs of available elements.\\n\\n        The term \"available elements\" refers to those elements in the\\n        first column of the CSV file\\'s path stored under the parameter\\'s\\n        \"file\" key. Users will not be able to add existing pairs or\\n        pairs formed by the same element twice. If the CSV file path\\n        changes, the pairs list will be emptied and the set of available\\n        elements will be updated.\\n        \"\"\"\\n        # Update the status and/or visibility of each parameter\\'s widget\\n        for key in self._parameters.keys():\\n            interface = self._widgets[key]\\n            disabled = not self._is_active(key)\\n            if (disabled):\\n                interface[0].value = interface[0].value.replace(\\'Black\\', \\'Gray\\')\\n            else:\\n                interface[0].value = interface[0].value.replace(\\'Gray\\', \\'Black\\')\\n            interface[1].layout.visibility = \\'hidden\\' if disabled else \\'visible\\'\\n            typeStr = self._parameters[key][\\'type\\']\\n            if (typeStr == \\'bool\\'):\\n                interface[2].children[0].disabled = disabled\\n            elif (typeStr in [\\'int\\', \\'float\\']):\\n                # Update minimum and maximum bounds too\\n                interface[2].min = self._min(key)\\n                interface[2].max = self._max(key)\\n                interface[2].disabled = disabled\\n            elif (typeStr == \\'path\\'):\\n                interface[2].children[0].disabled = disabled\\n                # Display the warning widget if the parameter is enabled\\n                # and the file does not exist\\n                if (not disabled and not os.path.isfile(self[key])):\\n                    interface[2].children[1].layout.visibility = \\'visible\\'\\n                else:\\n                    interface[2].children[1].layout.visibility = \\'hidden\\'\\n            elif (typeStr in [\\'int range\\', \\'float range\\']):\\n                # Update minimum and maximum bounds of the range too\\n                interface[2].children[0].min = self._min(key)\\n                interface[2].children[0].disabled = disabled\\n                interface[2].children[1].max = self._max(key)\\n                interface[2].children[1].disabled = disabled\\n            elif (typeStr == \\'multiselection\\'):\\n                for child in interface[2].children:\\n                    child.disabled = disabled\\n            elif (typeStr == \\'pairs\\'):\\n                interface[2].children[0].disabled = disabled\\n                interface[2].children[1].disabled = disabled\\n                for grandchild in interface[2].children[2].children:\\n                    grandchild.disabled = disabled\\n                interface[2].children[3].disabled = disabled\\n            else:\\n                interface[2].disabled = disabled\\n        # Ensure the save button should be available and ready to save\\n        # the new set of parameters\\n        self._widgets[\\'save\\'][3].description = \\'Save\\'\\n        self._widgets[\\'save\\'][3].icon = \\'\\'\\n        self._widgets[\\'save\\'][3].disabled = not self._valid_parameters()\\n\\n    def _default_handler(self, change):\\n        # type: (dict) -> None\\n        \"\"\"Handle the \"value\" trait change assigning the new value to\\n        the corresponding parameter.\\n\\n        The update() method is launched at the end to ensure every\\n        widget is updated according to the change in this parameter.\\n\\n        Keyword Arguments:\\n            change -- dict holding the information about the change\\n        \"\"\"\\n        key = change[\\'owner\\'].description\\n        self._parameters[key][\\'value\\'] = change[\\'new\\']\\n        self._update()\\n\\n    def _bool_handler(self, change):\\n        # type: (dict) -> None\\n        \"\"\"Handle the \"value\" trait change assigning the new value to\\n        the corresponding \"bool\" type parameter.\\n\\n        The update() method is launched at the end to ensure every\\n        widget is updated according to the change in this parameter.\\n\\n        Keyword Arguments:\\n            change -- dict holding the information about the change\\n        \"\"\"\\n        key = change[\\'owner\\'].tag\\n        self._parameters[key][\\'value\\'] = change[\\'new\\']\\n        # Change ToggleButton\\'s description to \"Yes\" or \"No\" depending\\n        # on whether its new value is True or False, respectively\\n        change[\\'owner\\'].description = \\'Yes\\' if change[\\'new\\'] else \\'No\\'\\n        self._update()\\n\\n    def _path_handler(self, change):\\n        # type: (dict) -> None\\n        \"\"\"Handle the \"value\" trait change assigning the new value to\\n        the corresponding \"path\" type parameter.\\n\\n        The update() method is launched at the end to ensure every\\n        widget is updated according to the change in this parameter.\\n\\n        Keyword Arguments:\\n            change -- dict holding the information about the change\\n        \"\"\"\\n        key = change[\\'owner\\'].description\\n        self._parameters[key][\\'value\\'] = normalise_path(change[\\'new\\'])\\n        # Replace the introduced path by its normalised version to\\n        # provide the user with more information in case there is\\n        # something wrong with the path\\n        change[\\'owner\\'].value = self[key]\\n        # Get the \"pairs\" type parameter that has this parameter in its\\n        # \"field\" key to update the contents of its widgets\\n        for param, data in self._parameters.items():\\n            if ((data[\\'type\\'] == \\'pairs\\') and (data[\\'file\\'] == key)):\\n                pairsWidget = self._widgets[param][2]\\n                if (os.path.isfile(self[key])):\\n                    # Update the information of available elements\\n                    options = pandas.read_csv(self[key]).iloc[:, 0].tolist()\\n                    pairsWidget.children[0].options = options\\n                    pairsWidget.children[1].options = options\\n                else:\\n                    # Since the file does not exist, there are no\\n                    # available elements\\n                    pairsWidget.children[0].options = []\\n                    pairsWidget.children[1].options = []\\n                # Since the file has changed, empty the list of pairs\\n                self._parameters[param][\\'value\\'] = []\\n                pairsWidget.children[3].options = []\\n                break\\n        self._update()\\n\\n    def _range_handler(self, change):\\n        # type: (dict) -> None\\n        \"\"\"Handle the \"value\" trait change assigning the new value to\\n        the corresponding \"int/float range\" type parameter.\\n\\n        The update() method is launched at the end to ensure every\\n        widget is updated according to the change in this parameter.\\n\\n        Keyword Arguments:\\n            change -- dict holding the information about the change\\n        \"\"\"\\n        key = change[\\'owner\\'].description\\n        # Both children have the same step\\n        step = self._widgets[key][2].children[0].step\\n        if (change[\\'owner\\'].min == self._min(key)):\\n            # Trait changed in the widget corresponding to the lower\\n            # bound of the range\\n            self._parameters[key][\\'value\\'][0] = change[\\'new\\']\\n            self._widgets[key][2].children[1].min = change[\\'new\\'] + step\\n        else:\\n            # Trait changed in the widget corresponding to the upper\\n            # bound of the range\\n            self._parameters[key][\\'value\\'][1] = change[\\'new\\']\\n            self._widgets[key][2].children[0].max = change[\\'new\\'] - step\\n        self._update()\\n\\n    def _multiselection_handler(self, change):\\n        # type: (dict) -> None\\n        \"\"\"Handle the \"value\" trait change updating the list of values\\n        of the corresponding \"multiselection\" type parameter.\\n\\n        The update() method is launched at the end to ensure every\\n        widget is updated according to the change in this parameter.\\n\\n        Keyword Arguments:\\n            change -- dict holding the information about the change\\n        \"\"\"\\n        key = change[\\'owner\\'].tag\\n        if (change[\\'new\\']):\\n            self._parameters[key][\\'value\\'].append(change[\\'owner\\'].description)\\n        else:\\n            self._parameters[key][\\'value\\'].remove(change[\\'owner\\'].description)\\n        self._update()\\n\\n    def _pairs_add_handler(self, button):\\n        # type: (_TaggedButton) -> None\\n        \"\"\"Handle when the button is clicked to add a pair to the\\n        corresponding \"pairs\" type parameter.\\n\\n        The update() method is launched at the end to ensure every\\n        widget is updated according to the change in this parameter.\\n\\n        Keyword Arguments:\\n            button -- clicked button widget instance\\n        \"\"\"\\n        key = button.tag\\n        # Add selected elements in both Selection widgets as a new pair\\n        leftSel = self._widgets[key][2].children[0].value\\n        rightSel = self._widgets[key][2].children[1].value\\n        newPair = [leftSel, rightSel]\\n        # The pairs are considered sets, that is, the order of the\\n        # elements is ignored\\n        if ((leftSel != rightSel) and (newPair not in self[key])\\n            and (newPair[::-1] not in self[key])):\\n            self._parameters[key][\\'value\\'].append(newPair)\\n            # Since the \"options\" field is a tuple, build a new list\\n            # with the new pair\\n            self._widgets[key][2].children[3].options = \\\\\\n                    [\\' , \\'.join(x) for x in self[key]]\\n        self._update()\\n\\n    def _pairs_del_handler(self, button):\\n        # type: (_TaggedButton) -> None\\n        \"\"\"Handle when the button is clicked to remove a pair of the\\n        corresponding \"pairs\" type parameter.\\n\\n        The update() method is launched at the end to ensure every\\n        widget is updated according to the change in this parameter.\\n\\n        Keyword Arguments:\\n            button -- clicked button widget instance\\n        \"\"\"\\n        key = button.tag\\n        pairsWidget = self._widgets[key][2].children[3]\\n        # Get the selected pair from the pairs widget\\n        pairSel = pairsWidget.value\\n        if (pairSel):\\n            pair = pairSel.split(\\' , \\')\\n            self._parameters[key][\\'value\\'].remove(pair)\\n            # Since the \"options\" field is a tuple, build a new list\\n            # without the deleted pair\\n            pairsWidget.options = [\\' , \\'.join(x) for x in self[key]]\\n            # Select the first pair to ensure coherence with the change\\n            if (pairsWidget.options):\\n                pairsWidget.value = pairsWidget.options[0]\\n        self._update()\\n\\n    def _save_path_handler(self, change):\\n        # type: (dict) -> None\\n        \"\"\"Handle the \"value\" trait change checking if the path where to\\n        save the parameters values exists.\\n\\n        A warning sign will be displayed if the given directory path\\n        does not exist. The update() method is launched at the end to\\n        ensure every widget is updated according to the change in this\\n        parameter.\\n\\n        Keyword Arguments:\\n            change -- dict holding the information about the change\\n        \"\"\"\\n        newPath = normalise_path(change[\\'new\\'])\\n        dirPath = os.path.split(newPath)[0]\\n        if (not os.path.isdir(dirPath)):\\n            self._widgets[\\'save\\'][2].layout.visibility = \\'visible\\'\\n        else:\\n            self._widgets[\\'save\\'][2].layout.visibility = \\'hidden\\'\\n        # Replace the introduced path by its normalised version to\\n        # provide the user with more information in case there is\\n        # something wrong\\n        change[\\'owner\\'].value = newPath\\n        self._update()\\n\\n    def _save_button_handler(self, button):\\n        # type: (widgets.Button) -> None\\n        \"\"\"Handle when the button is clicked to save the parameters\\n        values in a JSON file.\\n\\n        Keyword Arguments:\\n            button -- clicked button widget instance\\n        \"\"\"\\n        self.write(self._widgets[\\'save\\'][1].value)\\n        # Change the button\\'s text to tell the user the JSON parameters\\n        # file has been correctly created\\n        button.description = \\'Saved\\'\\n        button.icon = \\'check\\'\\n\\n    def _min(self, key):\\n        # type: (str) -> object\\n        \"\"\"Return the largest value in the parameter\\'s \"min\" list.\\n\\n        Applies round() method to the output of LFParameter._max() to\\n        get a more comparable result regarding floating point arithmetic\\n        issues.\\n\\n        Keyword Arguments:\\n            key -- name of the parameter\\n        \"\"\"\\n        return round(LFParameters._min(self, key), self._floatPointPrecision)\\n\\n    def _max(self, key):\\n        # type: (str) -> object\\n        \"\"\"Return the smallest value in the parameter\\'s \"max\" list.\\n\\n        Applies round() method to the output of LFParameter._max() to\\n        get a more comparable result regarding floating point arithmetic\\n        issues.\\n\\n        Keyword Arguments:\\n            key -- name of the parameter\\n        \"\"\"\\n        return round(LFParameters._max(self, key), self._floatPointPrecision)\\n\\n    def _valid_parameters(self):\\n        # type: () -> bool\\n        \"\"\"Return True if every active parameter has a valid value,\\n        False otherwise.\\n\\n        The list of valid parameters also includes \"save\" destination\\n        path, where the JSON parameters file will be saved.\\n        \"\"\"\\n        enabledKeys = (x for x in self._parameters.keys() if self._is_active(x))\\n        for key in enabledKeys:\\n            data = self._parameters[key]\\n            # Only \"multiselection\" type parameters can be empty ([])\\n            if ((data[\\'type\\'] != \\'multiselection\\')\\n                and (data[\\'value\\'] in [None, \\'\\', []])):\\n                return False\\n            # \"path\" type parameters must be checked manually, whilst\\n            # the rest are already controlled by their widget\\n            if ((data[\\'type\\'] == \\'path\\') and not os.path.isfile(data[\\'value\\'])):\\n                return False\\n        # This method is also called when the save interface is being\\n        # created, so the \"save\" key will not exist yet\\n        if (\\'save\\' in self._widgets):\\n            # Check if the directory path where to save the JSON\\n            # parameters file exists\\n            dirPath = os.path.split(self._widgets[\\'save\\'][1].value)[0]\\n            if (not os.path.isdir(dirPath)):\\n                return False\\n        return True\\n'"
      ]
     },
     "execution_count": 11,
     "metadata": {},
     "output_type": "execute_result"
    }
   ],
   "source": [
    "data['text'][0]"
   ]
  },
  {
   "cell_type": "code",
   "execution_count": 12,
   "metadata": {},
   "outputs": [],
   "source": [
    "from transformer_lens.utils import load_dataset, tokenize_and_concatenate, download_file_from_hf\n",
    "\n",
    "def mapping_function(examples):\n",
    "    tokenized_examples = tokenize_and_concatenate(examples, model.tokenizer, max_length=512)\n",
    "    "
   ]
  },
  {
   "cell_type": "code",
   "execution_count": null,
   "metadata": {},
   "outputs": [],
   "source": []
  },
  {
   "cell_type": "code",
   "execution_count": null,
   "metadata": {},
   "outputs": [],
   "source": []
  },
  {
   "cell_type": "code",
   "execution_count": null,
   "metadata": {},
   "outputs": [],
   "source": []
  },
  {
   "cell_type": "code",
   "execution_count": 13,
   "metadata": {},
   "outputs": [
    {
     "name": "stderr",
     "output_type": "stream",
     "text": [
      "Map (num_proc=10): 100%|██████████| 20000/20000 [00:15<00:00, 1300.94 examples/s]\n"
     ]
    },
    {
     "name": "stdout",
     "output_type": "stream",
     "text": [
      "Tokens shape:  torch.Size([215402, 128])\n"
     ]
    }
   ],
   "source": [
    "tokenized_data = tokenize_and_concatenate(data, model.tokenizer, max_length=128)\n",
    "tokenized_data = tokenized_data.shuffle(42)\n",
    "all_tokens = tokenized_data[\"tokens\"]\n",
    "print(\"Tokens shape: \", all_tokens.shape)"
   ]
  },
  {
   "cell_type": "code",
   "execution_count": 14,
   "metadata": {},
   "outputs": [
    {
     "data": {
      "text/plain": [
       "tensor([[    1,    10, 27498,  ...,    65, 32489,   426],\n",
       "        [    1, 14101, 27849,  ...,   282,  2374,   327],\n",
       "        [    1,  1358,   684,  ...,    10,  1320,    14],\n",
       "        ...,\n",
       "        [    1,  5613,   426,  ...,  1358,  7167,    65],\n",
       "        [    1,  4552,   324,  ...,  3270,  2012,    62],\n",
       "        [    1, 42978, 23925,  ...,  5181,    65,  3313]])"
      ]
     },
     "execution_count": 14,
     "metadata": {},
     "output_type": "execute_result"
    }
   ],
   "source": [
    "all_tokens"
   ]
  },
  {
   "cell_type": "code",
   "execution_count": null,
   "metadata": {},
   "outputs": [],
   "source": []
  },
  {
   "cell_type": "code",
   "execution_count": null,
   "metadata": {},
   "outputs": [],
   "source": []
  },
  {
   "cell_type": "code",
   "execution_count": null,
   "metadata": {},
   "outputs": [],
   "source": []
  },
  {
   "cell_type": "code",
   "execution_count": 2,
   "metadata": {},
   "outputs": [],
   "source": [
=======
>>>>>>> c4b9670c3119ab8db266bc29e31cfaf801b2350d
    "import sys, os\n",
    "sys.path.append(os.path.abspath(os.path.join('..')))"
   ]
  },
  {
   "cell_type": "code",
   "execution_count": 9,
   "metadata": {},
   "outputs": [],
   "source": [
    "from src.utils.generate_activation_data import GenerateActivationData"
   ]
  },
  {
   "cell_type": "code",
   "execution_count": 10,
   "metadata": {},
   "outputs": [
    {
     "data": {
      "text/plain": [
       "'2.0.1+cu117'"
      ]
     },
     "execution_count": 10,
     "metadata": {},
     "output_type": "execute_result"
    }
   ],
   "source": [
    "import torch\n",
    "torch.__version__"
   ]
  },
  {
   "cell_type": "code",
   "execution_count": 12,
   "metadata": {},
   "outputs": [
    {
     "data": {
      "text/plain": [
       "['train', 'validation', 'test']"
      ]
     },
     "execution_count": 12,
     "metadata": {},
     "output_type": "execute_result"
    }
   ],
   "source": [
    "datasets.get_dataset_split_names(\"monology/pile-uncopyrighted\")"
   ]
  },
  {
   "cell_type": "code",
   "execution_count": 13,
   "metadata": {},
   "outputs": [
    {
     "data": {
      "text/plain": [
       "['default']"
      ]
     },
     "execution_count": 13,
     "metadata": {},
     "output_type": "execute_result"
    }
   ],
   "source": [
    "datasets.get_dataset_config_names(\"monology/pile-uncopyrighted\")"
   ]
  },
  {
   "cell_type": "code",
   "execution_count": 1,
   "metadata": {},
   "outputs": [
    {
     "name": "stderr",
     "output_type": "stream",
     "text": [
      "/home/amani/.conda/envs/symbolic_probing/lib/python3.11/site-packages/tqdm/auto.py:21: TqdmWarning: IProgress not found. Please update jupyter and ipywidgets. See https://ipywidgets.readthedocs.io/en/stable/user_install.html\n",
      "  from .autonotebook import tqdm as notebook_tqdm\n"
     ]
    }
   ],
   "source": [
    "# import sys, os, datasets, torch, json\n",
    "# data_path = \"/dlabdata1/masani/symbolic_probing/data\"\n",
    "# data_files = {\"train\": [\"train/00.jsonl.zst\", \"train/01.jsonl.zst\"], \"validation\": \"val.jsonl.zst\", \"test\": \"test.jsonl.zst\"}\n",
    "# # Load the dataset from the specified file\n",
    "# # dataset = datasets.load_dataset(\"monology/pile-uncopyrighted\", cache_dir=data_path, data_files=data_files, )\n",
    "# dataset = datasets.load_dataset(\"monology/pile-uncopyrighted\", cache_dir=data_path, data_files=\"train/00.jsonl.zst\")\n",
    "\n",
    "\n",
    "import sys, os, datasets, torch, json\n",
    "data_path = \"/dlabdata1/masani/symbolic_probing/data\"\n",
    "data_files = {\"train\": [\"train/00.jsonl.zst\", \"train/01.jsonl.zst\"], \"validation\": \"val.jsonl.zst\", \"test\": \"test.jsonl.zst\"}\n",
    "# Load the dataset from the specified file\n",
    "# dataset = datasets.load_dataset(\"monology/pile-uncopyrighted\", cache_dir=data_path, data_files=data_files, )\n",
    "dataset = datasets.load_dataset(\"monology/pile-uncopyrighted\", cache_dir=data_path, data_files=data_files)\n",
    "dataset.save_to_disk(data_path + \"/loaded_pile_uncopyrighted.hf\")"
   ]
  },
  {
   "cell_type": "code",
   "execution_count": 2,
   "metadata": {},
   "outputs": [
    {
     "name": "stdout",
     "output_type": "stream",
     "text": [
      "DatasetDict({\n",
      "    train: Dataset({\n",
      "        features: ['text', 'meta'],\n",
      "        num_rows: 11800239\n",
      "    })\n",
      "    validation: Dataset({\n",
      "        features: ['text', 'meta'],\n",
      "        num_rows: 179996\n",
      "    })\n",
      "    test: Dataset({\n",
      "        features: ['text', 'meta'],\n",
      "        num_rows: 180378\n",
      "    })\n",
      "})\n",
      "It is done, and submitted. You can play “Survival of the Tastiest” on Android, and on the web. Playing on the web works, but you have to simulate multi-touch for table moving and that can be a bit confusing.\n",
      "\n",
      "There’s a lot I’d like to talk about. I’ll go through every topic, insted of making the typical what went right/wrong list.\n",
      "\n",
      "Concept\n",
      "\n",
      "Working over the theme was probably one of the hardest tasks I had to face.\n",
      "\n",
      "Originally, I had an idea of what kind of game I wanted to develop, gameplay wise – something with lots of enemies/actors, simple graphics, maybe set in space, controlled from a top-down view. I was confident I could fit any theme around it.\n",
      "\n",
      "In the end, the problem with a theme like “Evolution” in a game is that evolution is unassisted. It happens through several seemingly random mutations over time, with the most apt permutation surviving. This genetic car simulator is, in my opinion, a great example of actual evolution of a species facing a challenge. But is it a game?\n",
      "\n",
      "In a game, you need to control something to reach an objective. That control goes against what evolution is supposed to be like. If you allow the user to pick how to evolve something, it’s not evolution anymore – it’s the equivalent of intelligent design, the fable invented by creationists to combat the very idea of evolution. Being agnostic and a Pastafarian, that’s not something that rubbed me the right way.\n",
      "\n",
      "Hence, my biggest dillema when deciding what to create was not with what I wanted to create, but with what I did not. I didn’t want to create an “intelligent design” simulator and wrongly call it evolution.\n",
      "\n",
      "This is a problem, of course, every other contestant also had to face. And judging by the entries submitted, not many managed to work around it. I’d say the only real solution was through the use of artificial selection, somehow. So far, I haven’t seen any entry using this at its core gameplay.\n",
      "\n",
      "Alas, this is just a fun competition and after a while I decided not to be as strict with the game idea, and allowed myself to pick whatever I thought would work out.\n",
      "\n",
      "My initial idea was to create something where humanity tried to evolve to a next level but had some kind of foe trying to stop them from doing so. I kind of had this image of human souls flying in space towards a monolith or a space baby (all based in 2001: A Space Odyssey of course) but I couldn’t think of compelling (read: serious) mechanics for that.\n",
      "\n",
      "Borgs were my next inspiration, as their whole hypothesis fit pretty well into the evolution theme. But how to make it work? Are you the borg, or fighting the Borg?\n",
      "\n",
      "The third and final idea came to me through my girlfriend, who somehow gave me the idea of making something about the evolution of Pasta. The more I thought about it the more it sounded like it would work, so I decided to go with it.\n",
      "\n",
      "Conversations with my inspiring co-worker Roushey (who also created the “Mechanical Underdogs” signature logo for my intros) further matured the concept, as it involved into the idea of having individual pieces of pasta flying around and trying to evolve until they became all-powerful. A secondary idea here was that the game would work to explain how the Flying Spaghetti Monster came to exist – by evolving from a normal dinner table.\n",
      "\n",
      "So the idea evolved more or less into this: you are sitting a table. You have your own plate, with is your “base”. There are 5 other guests at the table, each with their own plate.\n",
      "\n",
      "Your plate can spawn little pieces of pasta. You do so by “ordering” them through a menu. Some pastas are better than others; some are faster, some are stronger. They have varying costs, which are debited from your credits (you start with a number of credits).\n",
      "\n",
      "Once spawned, your pastas start flying around. Their instinct is to fly to other plates, in order to conquer them (the objective of the game is having your pasta conquer all the plates on the table). But they are really autonomous, so after being spawned, you have no control over your pasta (think DotA or LoL creeps).\n",
      "\n",
      "Your pasta doesn’t like other people’s pasta, so if they meet, they shoot sauce at each other until one dies. You get credits for other pastas your own pasta kill.\n",
      "\n",
      "Once a pasta is in the vicinity of a plate, it starts conquering it for its team. It takes around 10 seconds for a plate to be conquered; less if more pasta from the same team are around. If pasta from other team are around, though, they get locked down in their attempt, unable to conquer the plate, until one of them die (think Battlefield’s standard “Conquest” mode).\n",
      "\n",
      "You get points every second for every plate you own.\n",
      "\n",
      "Over time, the concept also evolved to use an Italian bistro as its main scenario.\n",
      "\n",
      "Carlos, Carlos’ Bistro’s founder and owner\n",
      "\n",
      "Setup\n",
      "\n",
      "No major changes were made from my work setup. I used FDT and Starling creating an Adobe AIR (ActionScript) project, all tools or frameworks I already had some knowledge with.\n",
      "\n",
      "One big change for me was that I livestreamed my work through a twitch.tv account. This was a new thing for me. As recommended by Roushey, I used a program called XSplit and I got to say, it is pretty amazing. It made the livestream pretty effortless and the features are awesome, even for the free version. It was great to have some of my friends watch me, and then interact with them and random people through chat. It was also good knowing that I was also recording a local version of the files, so I could make a timelapse video later.\n",
      "\n",
      "Knowing the video was being recorded also made me a lot more self-conscious about my computer use, as if someone was watching over my shoulder. It made me realize that sometimes I spend too much time in seemingly inane tasks (I ended up wasting the longest time just to get some text alignment the way I wanted – it’ll probably drive someone crazy if they watch it) and that I do way too many typos where writing code. I pretty much spend half of the time writing a line and the other half fixing the crazy characters in it.\n",
      "\n",
      "My own stream was probably boring to watch since I was coding for the most time. But livestreaming is one of the cool things to do as a spectator too. It was great seeing other people working – I had a few tabs opened on my second monitor all the time. It’s actually a bit sad, because if I could, I could have spent the whole weekend just watching other people working! But I had to do my own work, so I’d only do it once in a while, when resting for a bit.\n",
      "\n",
      "Design\n",
      "\n",
      "Although I wanted some simple, low-fi, high-contrast kind of design, I ended up going with somewhat realistic (vector) art. I think it worked very well, fitting the mood of the game, but I also went overboard.\n",
      "\n",
      "For example: to know the state of a plate (who owns it, who’s conquering it and how much time they have left before conquering it, which pasta units are in the queue, etc), you have to look at the plate’s bill.\n",
      "\n",
      "The problem I realized when doing some tests is that people never look at the bill! They think it’s some kind of prop, so they never actually read its details.\n",
      "\n",
      "Plus, if you’re zoomed out too much, you can’t actually read it, so it’s hard to know what’s going on with the game until you zoom in to the area of a specific plate.\n",
      "\n",
      "One other solution that didn’t turn out to be as perfect as I thought was how to indicate who a plate base belongs to. In the game, that’s indicated by the plate’s decoration – its color denotes the team owner. But it’s something that fits so well into the design that people never realized it, until they were told about it.\n",
      "\n",
      "In the end, the idea of going with a full physical metaphor is one that should be done with care. Things that are very important risk becoming background noise, unless the player knows its importance.\n",
      "\n",
      "Originally, I wanted to avoid any kind of heads-up display in my game. In the end, I ended up adding it at the bottom to indicate your credits and bases owned, as well as the hideous out-of-place-and-still-not-obvious “Call Waiter” button. But in hindsight, I should have gone with a simple HUD from the start, especially one that indicated each team’s colors and general state of the game without the need for zooming in and out.\n",
      "\n",
      "Development\n",
      "\n",
      "Development went fast. But not fast enough.\n",
      "\n",
      "Even though I worked around 32+ hours for this Ludum Dare, the biggest problem I had to face in the end was overscoping. I had too much planned, and couldn’t get it all done.\n",
      "\n",
      "Content-wise, I had several kinds of pasta planned (Wikipedia is just amazing in that regard), split into several different groups, from small Pastina to huge Pasta al forno. But because of time constraints, I ended up scratching most of them, and ended up with 5 different types of very small pasta – barely something to start when talking about the evolution of Pasta.\n",
      "\n",
      "Pastas used in the game. Unfortunately, the macs where never used\n",
      "\n",
      "Which is one of the saddest things about the project, really. It had the framework and the features to allow an endless number of elements in there, but I just didn’t have time to draw the rest of the assets needed (something I loved to do, by the way).\n",
      "\n",
      "Other non-obvious features had to be dropped, too. For example, when ordering some pasta, you were supposed to select what kind of sauce you’d like with your pasta, each with different attributes. Bolognese, for example, is very strong, but inaccurate; Pesto is very accurate and has great range, but it’s weaker; and my favorite, Vodka, would triggers 10% loss of speed on the pasta hit by it.\n",
      "\n",
      "The code for that is mostly in there. But in the end, I didn’t have time to implement the sauce selection interface; all pasta ended up using bolognese sauce.\n",
      "\n",
      "To-do list: lots of things were not done\n",
      "\n",
      "Actual programming also took a toll in the development time. Having been programming for a while, I like to believe I got to a point where I know how to make things right, but at the expense of forgetting how to do things wrong in a seemingly good way. What I mean is that I had to take a lot of shortcuts in my code to save time (e.g. a lot of singletons references for cross-communication rather than events or observers, all-encompassing check loops, not fast enough) that left a very sour taste in my mouth. While I know I used to do those a few years ago and survive, I almost cannot accept the state my code is in right now.\n",
      "\n",
      "At the same time, I do know it was the right thing to do given the timeframe.\n",
      "\n",
      "One small thing that had some impact was using a somewhat new platform for me. That’s Starling, the accelerated graphics framework I used in Flash. I had tested it before and I knew how to use it well – the API is very similar to Flash itself. However, there were some small details that had some impact during development, making me feel somewhat uneasy the whole time I was writing the game. It was, again, the right thing to do, but I should have used Starling more deeply before (which is the conundrum: I used it for Ludum Dare just so I could learn more about it).\n",
      "\n",
      "Argument and user experience\n",
      "\n",
      "One final aspect of the game that I learned is that making the game obvious for your players goes a long way into making it fun. If you have to spend the longest time explaining things, your game is doing something wrong.\n",
      "\n",
      "And that’s exactly the problem Survival of the Tastiest ultimately faced. It’s very hard for people to understand what’s going on with the game, why, and how. I did have some introductory text at the beginning, but that was a last-minute thing. More importantly, I should have had a better interface or simplified the whole concept so it would be easier for people to understand.\n",
      "\n",
      "That doesn’t mean the game itself should be simple. It just means that the experience and interface should be approachable and understandable.\n",
      "\n",
      "Conclusion\n",
      "\n",
      "I’m extremely happy with what I’ve done and, especially given that this was my first Ludum Dare. However, I feel like I’ve learned a lot of what not to do.\n",
      "\n",
      "The biggest problem is overscoping. Like Eric Decker said, the biggest lesson we can learn with this is probably with scoping – deciding what to do beforehand in a way you can complete it without having to rush and do something half-assed.\n",
      "\n",
      "I’m sure I will do more Ludum Dares in the future. But if there are any lessons I can take of it, they are to make it simple, to use frameworks and platforms you already have some absolute experience with (otherwise you’ll spend too much time trying to solve easy questions), and to scope for a game that you can complete in one day only (that way, you can actually take two days and make it cool).\n",
      "\n",
      "This entry was posted\n",
      "on Monday, August 27th, 2012 at 10:54 am and is filed under LD #24.\n",
      "You can follow any responses to this entry through the RSS 2.0 feed.\n",
      "You can skip to the end and leave a response. Pinging is currently not allowed.\n",
      "\n",
      "3 Responses to ““Survival of the Tastiest” Post-mortem”\n",
      "\n",
      "darn it , knowing that I missed your livestream makes me a sad panda ;( but more to the point, the game is … well for a startup its original to say the least ;D it has some really neat ideas and more importantly its designed arround touch screens whitch by the looks of the submission is something rare ;o or that could be just me and my short memory -_-! awesum game, love et <3\n"
     ]
    }
   ],
   "source": [
    "print(dataset)\n",
    "print(dataset['train'][0]['text'])"
   ]
  },
  {
   "cell_type": "code",
   "execution_count": 7,
   "metadata": {},
   "outputs": [
    {
     "data": {
      "text/plain": [
       "'It is done, and submitted. You can play “Survival of the Tastiest” on Android, and on the web. Playing on the web works, but you have to simulate multi-touch for table moving and that can be a bit confusing.\\n\\nThere’s a lot I’d like to talk about. I’ll go through every topic, insted of making the typical what went right/wrong list.\\n\\nConcept\\n\\nWorking over the theme was probably one of the hardest tasks I had to face.\\n\\nOriginally, I had an idea of what kind of game I wanted to develop, gameplay wise – something with lots of enemies/actors, simple graphics, maybe set in space, controlled from a top-down view. I was confident I could fit any theme around it.\\n\\nIn the end, the problem with a theme like “Evolution” in a game is that evolution is unassisted. It happens through several seemingly random mutations over time, with the most apt permutation surviving. This genetic car simulator is, in my opinion, a great example of actual evolution of a species facing a challenge. But is it a game?\\n\\nIn a game, you need to control something to reach an objective. That control goes against what evolution is supposed to be like. If you allow the user to pick how to evolve something, it’s not evolution anymore – it’s the equivalent of intelligent design, the fable invented by creationists to combat the very idea of evolution. Being agnostic and a Pastafarian, that’s not something that rubbed me the right way.\\n\\nHence, my biggest dillema when deciding what to create was not with what I wanted to create, but with what I did not. I didn’t want to create an “intelligent design” simulator and wrongly call it evolution.\\n\\nThis is a problem, of course, every other contestant also had to face. And judging by the entries submitted, not many managed to work around it. I’d say the only real solution was through the use of artificial selection, somehow. So far, I haven’t seen any entry using this at its core gameplay.\\n\\nAlas, this is just a fun competition and after a while I decided not to be as strict with the game idea, and allowed myself to pick whatever I thought would work out.\\n\\nMy initial idea was to create something where humanity tried to evolve to a next level but had some kind of foe trying to stop them from doing so. I kind of had this image of human souls flying in space towards a monolith or a space baby (all based in 2001: A Space Odyssey of course) but I couldn’t think of compelling (read: serious) mechanics for that.\\n\\nBorgs were my next inspiration, as their whole hypothesis fit pretty well into the evolution theme. But how to make it work? Are you the borg, or fighting the Borg?\\n\\nThe third and final idea came to me through my girlfriend, who somehow gave me the idea of making something about the evolution of Pasta. The more I thought about it the more it sounded like it would work, so I decided to go with it.\\n\\nConversations with my inspiring co-worker Roushey (who also created the “Mechanical Underdogs” signature logo for my intros) further matured the concept, as it involved into the idea of having individual pieces of pasta flying around and trying to evolve until they became all-powerful. A secondary idea here was that the game would work to explain how the Flying Spaghetti Monster came to exist – by evolving from a normal dinner table.\\n\\nSo the idea evolved more or less into this: you are sitting a table. You have your own plate, with is your “base”. There are 5 other guests at the table, each with their own plate.\\n\\nYour plate can spawn little pieces of pasta. You do so by “ordering” them through a menu. Some pastas are better than others; some are faster, some are stronger. They have varying costs, which are debited from your credits (you start with a number of credits).\\n\\nOnce spawned, your pastas start flying around. Their instinct is to fly to other plates, in order to conquer them (the objective of the game is having your pasta conquer all the plates on the table). But they are really autonomous, so after being spawned, you have no control over your pasta (think DotA or LoL creeps).\\n\\nYour pasta doesn’t like other people’s pasta, so if they meet, they shoot sauce at each other until one dies. You get credits for other pastas your own pasta kill.\\n\\nOnce a pasta is in the vicinity of a plate, it starts conquering it for its team. It takes around 10 seconds for a plate to be conquered; less if more pasta from the same team are around. If pasta from other team are around, though, they get locked down in their attempt, unable to conquer the plate, until one of them die (think Battlefield’s standard “Conquest” mode).\\n\\nYou get points every second for every plate you own.\\n\\nOver time, the concept also evolved to use an Italian bistro as its main scenario.\\n\\nCarlos, Carlos’ Bistro’s founder and owner\\n\\nSetup\\n\\nNo major changes were made from my work setup. I used FDT and Starling creating an Adobe AIR (ActionScript) project, all tools or frameworks I already had some knowledge with.\\n\\nOne big change for me was that I livestreamed my work through a twitch.tv account. This was a new thing for me. As recommended by Roushey, I used a program called XSplit and I got to say, it is pretty amazing. It made the livestream pretty effortless and the features are awesome, even for the free version. It was great to have some of my friends watch me, and then interact with them and random people through chat. It was also good knowing that I was also recording a local version of the files, so I could make a timelapse video later.\\n\\nKnowing the video was being recorded also made me a lot more self-conscious about my computer use, as if someone was watching over my shoulder. It made me realize that sometimes I spend too much time in seemingly inane tasks (I ended up wasting the longest time just to get some text alignment the way I wanted – it’ll probably drive someone crazy if they watch it) and that I do way too many typos where writing code. I pretty much spend half of the time writing a line and the other half fixing the crazy characters in it.\\n\\nMy own stream was probably boring to watch since I was coding for the most time. But livestreaming is one of the cool things to do as a spectator too. It was great seeing other people working – I had a few tabs opened on my second monitor all the time. It’s actually a bit sad, because if I could, I could have spent the whole weekend just watching other people working! But I had to do my own work, so I’d only do it once in a while, when resting for a bit.\\n\\nDesign\\n\\nAlthough I wanted some simple, low-fi, high-contrast kind of design, I ended up going with somewhat realistic (vector) art. I think it worked very well, fitting the mood of the game, but I also went overboard.\\n\\nFor example: to know the state of a plate (who owns it, who’s conquering it and how much time they have left before conquering it, which pasta units are in the queue, etc), you have to look at the plate’s bill.\\n\\nThe problem I realized when doing some tests is that people never look at the bill! They think it’s some kind of prop, so they never actually read its details.\\n\\nPlus, if you’re zoomed out too much, you can’t actually read it, so it’s hard to know what’s going on with the game until you zoom in to the area of a specific plate.\\n\\nOne other solution that didn’t turn out to be as perfect as I thought was how to indicate who a plate base belongs to. In the game, that’s indicated by the plate’s decoration – its color denotes the team owner. But it’s something that fits so well into the design that people never realized it, until they were told about it.\\n\\nIn the end, the idea of going with a full physical metaphor is one that should be done with care. Things that are very important risk becoming background noise, unless the player knows its importance.\\n\\nOriginally, I wanted to avoid any kind of heads-up display in my game. In the end, I ended up adding it at the bottom to indicate your credits and bases owned, as well as the hideous out-of-place-and-still-not-obvious “Call Waiter” button. But in hindsight, I should have gone with a simple HUD from the start, especially one that indicated each team’s colors and general state of the game without the need for zooming in and out.\\n\\nDevelopment\\n\\nDevelopment went fast. But not fast enough.\\n\\nEven though I worked around 32+ hours for this Ludum Dare, the biggest problem I had to face in the end was overscoping. I had too much planned, and couldn’t get it all done.\\n\\nContent-wise, I had several kinds of pasta planned (Wikipedia is just amazing in that regard), split into several different groups, from small Pastina to huge Pasta al forno. But because of time constraints, I ended up scratching most of them, and ended up with 5 different types of very small pasta – barely something to start when talking about the evolution of Pasta.\\n\\nPastas used in the game. Unfortunately, the macs where never used\\n\\nWhich is one of the saddest things about the project, really. It had the framework and the features to allow an endless number of elements in there, but I just didn’t have time to draw the rest of the assets needed (something I loved to do, by the way).\\n\\nOther non-obvious features had to be dropped, too. For example, when ordering some pasta, you were supposed to select what kind of sauce you’d like with your pasta, each with different attributes. Bolognese, for example, is very strong, but inaccurate; Pesto is very accurate and has great range, but it’s weaker; and my favorite, Vodka, would triggers 10% loss of speed on the pasta hit by it.\\n\\nThe code for that is mostly in there. But in the end, I didn’t have time to implement the sauce selection interface; all pasta ended up using bolognese sauce.\\n\\nTo-do list: lots of things were not done\\n\\nActual programming also took a toll in the development time. Having been programming for a while, I like to believe I got to a point where I know how to make things right, but at the expense of forgetting how to do things wrong in a seemingly good way. What I mean is that I had to take a lot of shortcuts in my code to save time (e.g. a lot of singletons references for cross-communication rather than events or observers, all-encompassing check loops, not fast enough) that left a very sour taste in my mouth. While I know I used to do those a few years ago and survive, I almost cannot accept the state my code is in right now.\\n\\nAt the same time, I do know it was the right thing to do given the timeframe.\\n\\nOne small thing that had some impact was using a somewhat new platform for me. That’s Starling, the accelerated graphics framework I used in Flash. I had tested it before and I knew how to use it well – the API is very similar to Flash itself. However, there were some small details that had some impact during development, making me feel somewhat uneasy the whole time I was writing the game. It was, again, the right thing to do, but I should have used Starling more deeply before (which is the conundrum: I used it for Ludum Dare just so I could learn more about it).\\n\\nArgument and user experience\\n\\nOne final aspect of the game that I learned is that making the game obvious for your players goes a long way into making it fun. If you have to spend the longest time explaining things, your game is doing something wrong.\\n\\nAnd that’s exactly the problem Survival of the Tastiest ultimately faced. It’s very hard for people to understand what’s going on with the game, why, and how. I did have some introductory text at the beginning, but that was a last-minute thing. More importantly, I should have had a better interface or simplified the whole concept so it would be easier for people to understand.\\n\\nThat doesn’t mean the game itself should be simple. It just means that the experience and interface should be approachable and understandable.\\n\\nConclusion\\n\\nI’m extremely happy with what I’ve done and, especially given that this was my first Ludum Dare. However, I feel like I’ve learned a lot of what not to do.\\n\\nThe biggest problem is overscoping. Like Eric Decker said, the biggest lesson we can learn with this is probably with scoping – deciding what to do beforehand in a way you can complete it without having to rush and do something half-assed.\\n\\nI’m sure I will do more Ludum Dares in the future. But if there are any lessons I can take of it, they are to make it simple, to use frameworks and platforms you already have some absolute experience with (otherwise you’ll spend too much time trying to solve easy questions), and to scope for a game that you can complete in one day only (that way, you can actually take two days and make it cool).\\n\\nThis entry was posted\\non Monday, August 27th, 2012 at 10:54 am and is filed under LD #24.\\nYou can follow any responses to this entry through the RSS 2.0 feed.\\nYou can skip to the end and leave a response. Pinging is currently not allowed.\\n\\n3 Responses to ““Survival of the Tastiest” Post-mortem”\\n\\ndarn it , knowing that I missed your livestream makes me a sad panda ;( but more to the point, the game is … well for a startup its original to say the least ;D it has some really neat ideas and more importantly its designed arround touch screens whitch by the looks of the submission is something rare ;o or that could be just me and my short memory -_-! awesum game, love et <3'"
      ]
     },
     "execution_count": 7,
     "metadata": {},
     "output_type": "execute_result"
    }
   ],
   "source": []
  },
  {
   "cell_type": "code",
   "execution_count": null,
   "metadata": {},
   "outputs": [],
   "source": []
  }
 ],
 "metadata": {
  "kernelspec": {
   "display_name": "symbolic_probing",
   "language": "python",
   "name": "python3"
  },
  "language_info": {
   "codemirror_mode": {
    "name": "ipython",
    "version": 3
   },
   "file_extension": ".py",
   "mimetype": "text/x-python",
   "name": "python",
   "nbconvert_exporter": "python",
   "pygments_lexer": "ipython3",
   "version": "3.11.8"
  }
 },
 "nbformat": 4,
 "nbformat_minor": 2
}
