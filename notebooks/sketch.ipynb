{
 "cells": [
  {
   "cell_type": "code",
   "execution_count": 1,
   "metadata": {},
   "outputs": [
    {
     "name": "stderr",
     "output_type": "stream",
     "text": [
      "/home/amani/.conda/envs/symbolic_probing/lib/python3.11/site-packages/tqdm/auto.py:21: TqdmWarning: IProgress not found. Please update jupyter and ipywidgets. See https://ipywidgets.readthedocs.io/en/stable/user_install.html\n",
      "  from .autonotebook import tqdm as notebook_tqdm\n",
      "Downloading data: 100%|██████████| 11.2G/11.2G [09:35<00:00, 19.4MB/s]\n",
      "Downloading data: 100%|██████████| 338M/338M [01:10<00:00, 4.77MB/s] \n",
      "Downloading data: 100%|██████████| 338M/338M [00:20<00:00, 16.8MB/s] \n",
      "Generating train split: 11800239 examples [23:12, 8475.62 examples/s] \n",
      "Generating validation split: 179996 examples [00:26, 6898.88 examples/s] \n",
      "Generating test split: 180378 examples [00:20, 8715.19 examples/s] \n"
     ]
    }
   ],
   "source": [
    "import sys, os, datasets, torch, json\n",
    "data_path = \"/dlabdata1/masani/symbolic_probing/data\"\n",
    "data_files = {\"train\": [\"train/00.jsonl.zst\", \"train/01.jsonl.zst\"], \"validation\": \"val.jsonl.zst\", \"test\": \"test.jsonl.zst\"}\n",
    "# Load the dataset from the specified file\n",
    "# dataset = datasets.load_dataset(\"monology/pile-uncopyrighted\", cache_dir=data_path, data_files=data_files, )\n",
    "dataset = datasets.load_dataset(\"monology/pile-uncopyrighted\", cache_dir=data_path, data_files=data_files)\n"
   ]
  },
  {
   "cell_type": "code",
   "execution_count": 2,
   "metadata": {},
   "outputs": [
    {
     "name": "stderr",
     "output_type": "stream",
     "text": [
      "Saving the dataset (133/133 shards): 100%|██████████| 11800239/11800239 [21:32<00:00, 9128.91 examples/s] \n",
      "Saving the dataset (3/3 shards): 100%|██████████| 179996/179996 [00:18<00:00, 9975.74 examples/s] \n",
      "Saving the dataset (2/2 shards): 100%|██████████| 180378/180378 [00:16<00:00, 11073.27 examples/s]\n"
     ]
    }
   ],
   "source": [
    "dataset.save_to_disk(data_path + \"/loaded_pile_uncopyrighted.hf\")"
   ]
  },
  {
   "cell_type": "code",
   "execution_count": null,
   "metadata": {},
   "outputs": [],
   "source": []
  }
 ],
 "metadata": {
  "kernelspec": {
   "display_name": "symbolic_probing",
   "language": "python",
   "name": "python3"
  },
  "language_info": {
   "codemirror_mode": {
    "name": "ipython",
    "version": 3
   },
   "file_extension": ".py",
   "mimetype": "text/x-python",
   "name": "python",
   "nbconvert_exporter": "python",
   "pygments_lexer": "ipython3",
   "version": "3.11.8"
  }
 },
 "nbformat": 4,
 "nbformat_minor": 2
}
